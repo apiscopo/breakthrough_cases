{
 "cells": [
  {
   "cell_type": "code",
   "execution_count": null,
   "id": "7b017b0f-2cbb-4c54-a063-ea60415132e7",
   "metadata": {},
   "outputs": [],
   "source": [
    "# Script to scrape weekly breakthrough covid-19 case count from mass.gov pdfs"
   ]
  },
  {
   "cell_type": "code",
   "execution_count": 1,
   "id": "4e691730-0671-4808-a7f1-c2bc15c441e4",
   "metadata": {},
   "outputs": [],
   "source": [
    "import numpy as np\n",
    "from bs4 import BeautifulSoup\n",
    "import io\n",
    "import requests\n",
    "from PyPDF2 import PdfFileReader\n",
    "from datetime import datetime\n",
    "import matplotlib.pyplot as plt"
   ]
  },
  {
   "cell_type": "code",
   "execution_count": 2,
   "id": "039245e8-d0a0-4de8-8185-8783199af8c5",
   "metadata": {},
   "outputs": [],
   "source": [
    "# read ma.gov website with archive of covid data\n",
    "url = 'https://www.mass.gov/info-details/archive-of-covid-19-vaccination-reports#october-2021-'\n",
    "\n",
    "response = requests.get(url)\n",
    "content = response.content\n",
    "soup = BeautifulSoup(content, \"html.parser\")"
   ]
  },
  {
   "cell_type": "code",
   "execution_count": 3,
   "id": "86bdeb7b-dad1-43d9-928a-cef769997e24",
   "metadata": {},
   "outputs": [],
   "source": [
    "# find relevant part of the html\n",
    "head = soup.head.title.text\n",
    "body = soup.find_all(\"body\")\n",
    "section = body[0].find_all(\"section\")"
   ]
  },
  {
   "cell_type": "code",
   "execution_count": 4,
   "id": "824e77a7-ee38-4113-9bad-3ef49bbceaa6",
   "metadata": {},
   "outputs": [
    {
     "data": {
      "text/plain": [
       "['https://www.mass.gov/doc/weekly-report-covid-19-cases-in-vaccinated-individuals-october-19-2021/download',\n",
       " 'https://www.mass.gov/doc/weekly-report-covid-19-cases-in-vaccinated-individuals-october-12-2021/download',\n",
       " 'https://www.mass.gov/doc/weekly-report-covid-19-cases-in-vaccinated-individuals-october-5-2021/download',\n",
       " 'https://www.mass.gov/doc/weekly-report-covid-19-cases-in-vaccinated-individuals-september-28-2021/download',\n",
       " 'https://www.mass.gov/doc/weekly-report-covid-19-cases-in-vaccinated-individuals-september-21-2021/download',\n",
       " 'https://www.mass.gov/doc/weekly-report-covid-19-cases-in-vaccinated-individuals-september-14-2021/download',\n",
       " 'https://www.mass.gov/doc/weekly-report-covid-19-cases-in-vaccinated-individuals-september-7-2021/download',\n",
       " 'https://www.mass.gov/doc/weekly-report-covid-19-cases-in-vaccinated-individuals-august-31-2021/download',\n",
       " 'https://www.mass.gov/doc/weekly-report-covid-19-cases-in-vaccinated-individuals-august-24-2021/download']"
      ]
     },
     "execution_count": 4,
     "metadata": {},
     "output_type": "execute_result"
    }
   ],
   "source": [
    "# get all of the links pertaining to breakthrough case data\n",
    "all_links = []\n",
    "\n",
    "for s in np.arange(4, len(section)-3):\n",
    "    links = section[s].find_all('a', href=True)\n",
    "    for l in np.arange(len(links)):\n",
    "        if \"individuals\" in links[l]['href']:\n",
    "            all_links.append('https://www.mass.gov' + links[l]['href'])\n",
    "\n",
    "num_dates = len(all_links)            \n",
    "all_links"
   ]
  },
  {
   "cell_type": "code",
   "execution_count": 5,
   "id": "356200a9-0c19-4a14-9424-a2ecbad56321",
   "metadata": {},
   "outputs": [
    {
     "data": {
      "text/plain": [
       "['2021-10-19',\n",
       " '2021-10-12',\n",
       " '2021-10-05',\n",
       " '2021-09-28',\n",
       " '2021-09-21',\n",
       " '2021-09-14',\n",
       " '2021-09-07',\n",
       " '2021-08-31',\n",
       " '2021-08-24']"
      ]
     },
     "execution_count": 5,
     "metadata": {},
     "output_type": "execute_result"
    }
   ],
   "source": [
    "# pull dates from the link titles and store as datetime instead of string\n",
    "date_str = [all_links[l].split('/')[4].replace('weekly-report-covid-19-cases-in-vaccinated-individuals-', '') for l in np.arange(num_dates)]\n",
    "Date_str = [date_str[i].capitalize() for i in np.arange(num_dates)]\n",
    "date = [datetime.strptime(Date_str[i], '%B-%d-%Y') for i in np.arange(num_dates)]"
   ]
  },
  {
   "cell_type": "code",
   "execution_count": 6,
   "id": "34f737dc-9d8e-4751-8167-72f875b82b81",
   "metadata": {},
   "outputs": [],
   "source": [
    "# function to open the pdfs associated with the above links and extract the weekly breakthrough case count\n",
    "def read_doc(pdf_path):\n",
    "    \n",
    "    pdf_link = requests.get(pdf_path)\n",
    "\n",
    "    with io.BytesIO(pdf_link.content) as f:\n",
    "        \n",
    "        pdf = PdfFileReader(f)\n",
    "        info = pdf.getDocumentInfo()\n",
    "        page_obj = pdf.getPage(1)\n",
    "        text = page_obj.extractText()\n",
    "            \n",
    "        if (text.split('\\n')[1] == '-Decisional') and (text.split('\\n')[3] == '-19 Cases '):\n",
    "            cases_str = text.split('\\n')[6]\n",
    "            \n",
    "        elif (text.split('\\n')[1] == '-Decisional'):\n",
    "            cases_str = text.split('\\n')[5]\n",
    "        \n",
    "        else:\n",
    "            cases_str = text.split('\\n')[3]\n",
    "        \n",
    "        cases = int(cases_str.replace(',', ''))\n",
    "\n",
    "    return cases"
   ]
  },
  {
   "cell_type": "code",
   "execution_count": 7,
   "id": "1ae3606d-b0ce-4ebe-ad92-88a06a33fc2b",
   "metadata": {},
   "outputs": [
    {
     "name": "stdout",
     "output_type": "stream",
     "text": [
      "47929\n",
      "44498\n",
      "40464\n",
      "36723\n",
      "32345\n",
      "27777\n",
      "23858\n",
      "19443\n",
      "15739\n"
     ]
    }
   ],
   "source": [
    "# call function for each link\n",
    "all_cases = []\n",
    "for i in np.arange(len(all_links)):\n",
    "    cases = read_doc(all_links[i])\n",
    "    print(cases)\n",
    "    all_cases.append(cases)"
   ]
  },
  {
   "cell_type": "code",
   "execution_count": 13,
   "id": "0ac71fb1-5569-4111-be9a-37a04fa249ca",
   "metadata": {},
   "outputs": [
    {
     "data": {
      "text/plain": [
       "Text(0, 0.5, 'case count')"
      ]
     },
     "execution_count": 13,
     "metadata": {},
     "output_type": "execute_result"
    },
    {
     "data": {
      "image/png": "[encoded data removed]",
      "text/plain": [
       "<Figure size 864x288 with 1 Axes>"
      ]
     },
     "metadata": {
      "needs_background": "light"
     },
     "output_type": "display_data"
    }
   ],
   "source": [
    "plt.figure(figsize=(12,4))\n",
    "plt.scatter(date, all_cases)\n",
    "plt.title('Covid-19 Cases in Vaccinated Individuals in Massachusetts')\n",
    "plt.ylabel('case count')"
   ]
  },
  {
   "cell_type": "code",
   "execution_count": null,
   "id": "2ea31aa6-114c-4019-9a19-50a839a48877",
   "metadata": {},
   "outputs": [],
   "source": []
  }
 ],
 "metadata": {
  "kernelspec": {
   "display_name": "Python 3 (ipykernel)",
   "language": "python",
   "name": "python3"
  },
  "language_info": {
   "codemirror_mode": {
    "name": "ipython",
    "version": 3
   },
   "file_extension": ".py",
   "mimetype": "text/x-python",
   "name": "python",
   "nbconvert_exporter": "python",
   "pygments_lexer": "ipython3",
   "version": "3.9.7"
  }
 },
 "nbformat": 4,
 "nbformat_minor": 5
}
